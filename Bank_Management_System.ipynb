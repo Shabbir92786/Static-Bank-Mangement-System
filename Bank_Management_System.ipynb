{
  "nbformat": 4,
  "nbformat_minor": 0,
  "metadata": {
    "colab": {
      "name": "Bank Management System",
      "provenance": []
    },
    "kernelspec": {
      "name": "python3",
      "display_name": "Python 3"
    }
  },
  "cells": [
    {
      "cell_type": "code",
      "metadata": {
        "id": "-DAoskD-9nKB",
        "colab_type": "code",
        "colab": {
          "base_uri": "https://localhost:8080/",
          "height": 323
        },
        "outputId": "1bc6a5ce-e4a4-4de7-b78e-964665ab1ec0"
      },
      "source": [
        "#CHOICE PART\n",
        "print(\"Welcome to bank of python\")\n",
        "print(\"1=Customer\")\n",
        "print(\"2=Admin\")\n",
        "x = int(input(\"Choose your role: \"))\n",
        "if (x!=1 and 2):\n",
        "    print(\"#Chose from above only#\")\n",
        "\n",
        "#LOGIN PART\n",
        "if (x==1):\n",
        "    m = int(input(\"Enter your id: \"))\n",
        "    if (m==1010):\n",
        "        n = int(input(\"Enter your password: \"))\n",
        "    if (m!=1010):\n",
        "            print(\"id is wrong\")\n",
        "    if (n!=101):\n",
        "        print(\"wrong password\")\n",
        "    if (n==101):\n",
        "        print(\"welcome to account Mr. Neel\")\n",
        "if (x==2):\n",
        "    a = int(input(\"Enter your id: \"))\n",
        "    if (a==9999):\n",
        "        b = int(input(\"Enter your password: \"))\n",
        "    if (a!=9999):\n",
        "            print(\"id is wrong: \")\n",
        "    if (b!=989):\n",
        "        print(\"wrong password\")\n",
        "    if (b==989):\n",
        "        print(\"welcome to account Mr.Admin\")\n",
        "\n",
        "#SERVICIES THAT CAN BE USE BY CUSTOMER\n",
        "if (m==1010 and n==101):\n",
        "    print(\"What you want to do sir? \\n 1. BALANCE INQUIRY \\n 2. TRANSACTION HISTORY \\n 3. CREATE PIN FOR CARD \\n 4. CHECK PERSONAL INFORMATION\")\n",
        "    c = int(input(\"Choose any of this: \"))\n",
        "    if (c==1):\n",
        "        print(\"Just a moment.... \\n your balance is 5000.00rs\")\n",
        "    if (c==2):\n",
        "        print(\"Last transection was from PARUL UNIVERSITY of RS 10000000\")\n",
        "    if (c==3):\n",
        "        print(\"Size of PIN must be 4 numbers only\")\n",
        "        d = int(input(\"Insert new PIN: \"))\n",
        "        print(\"New PIN is updated\")\n",
        "    if (c==4):\n",
        "        print(\"Here is your information: \\n NAME: NEEL SHETH \\n ACC.NO: 9898123 \\n ADDRESS: VADODARA \\n PIN: 23*******1\") \n",
        "    print(\" 1 - LOGOUT \\n 2. CONTINUE WITH OTHER SERVICES\")\n",
        "    e = int(input(\"Chose what you want:\"))\n",
        "if (e==1):\n",
        "        print(\"LOGGED OUT SUCCESSFULLY\")     "
      ],
      "execution_count": 15,
      "outputs": [
        {
          "output_type": "stream",
          "text": [
            "Welcome to bank of python\n",
            "1=Customer\n",
            "2=Admin\n",
            "Choose your role: 1\n",
            "Enter your id: 1010\n",
            "Enter your password: 101\n",
            "welcome to account Mr. Neel\n",
            "What you want to do sir? \n",
            " 1. BALANCE INQUIRY \n",
            " 2. TRANSACTION HISTORY \n",
            " 3. CREATE PIN FOR CARD \n",
            " 4. CHECK PERSONAL INFORMATION\n",
            "Choose any of this: 2\n",
            "Last transection was from PARUL UNIVERSITY of RS 10000000\n",
            "1 - LOGOUT \n",
            " 2. CONTINUE WITH OTHER SERVICES\n",
            "Chose what you want:1\n",
            "LOGGED OUT SUCCESSFULLY\n"
          ],
          "name": "stdout"
        }
      ]
    }
  ]
}